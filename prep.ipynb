{
 "cells": [
  {
   "cell_type": "code",
   "execution_count": 1,
   "metadata": {},
   "outputs": [],
   "source": [
    "import pandas as pd\n",
    "import matplotlib.pyplot as plt\n",
    "import seaborn as sns\n",
    "import numpy as np\n",
    "from scipy.optimize import curve_fit"
   ]
  },
  {
   "cell_type": "code",
   "execution_count": 116,
   "metadata": {},
   "outputs": [],
   "source": [
    "df = pd.read_csv(\"Testapp\\SwimDataTop50.csv\")"
   ]
  },
  {
   "cell_type": "code",
   "execution_count": 117,
   "metadata": {},
   "outputs": [
    {
     "data": {
      "text/plain": [
       "surname    firstname  track length  technique    \n",
       "ARMSTRONG  Hunter     25            Freistil         2\n",
       "                                    Rücken           2\n",
       "                      50            Freistil         3\n",
       "                                    Rücken           3\n",
       "                                    Schmetterling    1\n",
       "                                                    ..\n",
       "ZHAO       Jing       25            Lagen            2\n",
       "                                    Rücken           3\n",
       "                      50            Freistil         1\n",
       "                                    Lagen            2\n",
       "                                    Rücken           3\n",
       "Length: 516, dtype: int64"
      ]
     },
     "execution_count": 117,
     "metadata": {},
     "output_type": "execute_result"
    }
   ],
   "source": [
    "# Function to parse time strings with variable formats\n",
    "def parse_custom_time(time_str):\n",
    "    time_parts_count = len(str(time_str).split(\":\"))\n",
    "    format_map = {1: '00:00:{}', 2: '00:{}', 3: '{}'}\n",
    "\n",
    "    if time_parts_count in format_map:\n",
    "        return pd.to_timedelta(format_map[time_parts_count].format(time_str))\n",
    "    else:\n",
    "        raise ValueError(f'Invalid time format: {time_str}')\n",
    "\n",
    "# Convert 'time' column to timedelta \n",
    "df['time'] = df['time'].apply(parse_custom_time)\n",
    "\n",
    "# Calculate 'time_seconds' and 'speed' columns\n",
    "df.loc[:, 'time_seconds'] = df['time'].dt.total_seconds()\n",
    "df.loc[:, 'speed'] = df['distance'] / df['time_seconds']\n",
    "\n",
    "df.drop_duplicates(subset=['surname', 'firstname', 'distance', 'technique', 'track length'], keep='first', inplace=True)\n",
    "\n",
    "# Group the data by 'surname', 'firstname', 'track length', 'technique'\n",
    "grouped_data = df.groupby(['surname', 'firstname', 'track length', 'technique'])\n",
    "grouped_data.size()"
   ]
  },
  {
   "cell_type": "code",
   "execution_count": 125,
   "metadata": {},
   "outputs": [],
   "source": [
    "def fit_rational_function(x, a, b, c, d):\n",
    "    return d / (a * x + b) + c"
   ]
  },
  {
   "cell_type": "code",
   "execution_count": 5,
   "metadata": {},
   "outputs": [],
   "source": [
    "#constants\n",
    "DISTANCE_200 = 200\n",
    "TRACK_LENGTHS = [25, 50]\n",
    "TECHNIQUES = ['F', 'R', 'B', 'S', 'L']\n",
    "TECHNIQUE_MAP = {\n",
    "    'F': 'Freistil',\n",
    "    'R': 'Rücken',\n",
    "    'B': 'Brust',\n",
    "    'S': 'Schmetterling',\n",
    "    'L': 'Lagen'\n",
    "}"
   ]
  },
  {
   "cell_type": "code",
   "execution_count": 126,
   "metadata": {},
   "outputs": [],
   "source": [
    "# Function to filter data for a specific swimmer and plot the rational function fit\n",
    "def plot_rational_function_for_swimmer(df, firstname, lastname, track_length, technique, isAbsolute=False):\n",
    "\n",
    "    # Validate parameters\n",
    "    if not firstname or not lastname or not track_length or not technique:\n",
    "        raise ValueError('Invalid request. Please provide all parameters.')\n",
    "    elif technique not in TECHNIQUES:\n",
    "        raise ValueError('Invalid request. Technique must be one of F, R, B, S, L.')\n",
    "    elif track_length not in TRACK_LENGTHS:\n",
    "        raise ValueError('Invalid request. Track length must be one of 25, 50.')\n",
    "\n",
    "    lastname = lastname.upper()\n",
    "    \n",
    "    # Lists to store predicted and measured values\n",
    "    measured_values = {}\n",
    "    predicted_values = {}\n",
    "\n",
    "    # Map the technique\n",
    "    technique = TECHNIQUE_MAP[technique]\n",
    "\n",
    "    # Filter the DataFrame based on the provided parameters\n",
    "    filtered_df = df[(df['firstname'] == firstname) & (df['surname'] == lastname) & (df['track length'] == int(track_length)) & (df['technique'] == technique)]\n",
    "\n",
    "   # If no data found, return an error message\n",
    "    if filtered_df.empty:\n",
    "        raise ValueError(f'No data found for {firstname} {lastname}.')\n",
    "    elif len(filtered_df) < 3:\n",
    "        raise ValueError(f'Not enough data found for {firstname} {lastname}.')\n",
    "    \n",
    "    if not isAbsolute:\n",
    "        # Check if 200m distance is present in the filtered data\n",
    "        if DISTANCE_200 in filtered_df['distance'].unique():\n",
    "            # If 200m distance is present, use the speed value for division\n",
    "            divisor = filtered_df[filtered_df['distance'] == DISTANCE_200]['speed'].values[0]\n",
    "        else:\n",
    "            # If 200m distance is not present, find the closest distance and use its speed value for division\n",
    "            closest_distance_index = (filtered_df['distance'] - 200).abs().argsort().sort_values()[:1].index\n",
    "            print(closest_distance_index)\n",
    "            divisor = filtered_df.loc[closest_distance_index, 'speed'].values[0]\n",
    "\n",
    "        # Calculation for relative speed to 200m\n",
    "        filtered_df.loc[:,'speed'] = filtered_df['speed'] / divisor\n",
    "\n",
    "\n",
    "    # Fit a rational function to the filtered data\n",
    "    try:\n",
    "        params, covariance = curve_fit(fit_rational_function, filtered_df['distance'], filtered_df['speed'], method=\"dogbox\",maxfev=500000)\n",
    "    except RuntimeError:\n",
    "        raise RuntimeError('Curve fitting failed.')\n",
    "        \n",
    "\n",
    "    x_range = np.linspace(0, 2000, 200)\n",
    "    y_pred = fit_rational_function(x_range, *params)\n",
    "\n",
    "    for X, Y in zip(x_range, y_pred):\n",
    "        predicted_values[X] = Y\n",
    "\n",
    "    for distance, speed in zip(filtered_df['distance'], filtered_df['speed']):\n",
    "        measured_values[distance] = speed\n",
    "\n",
    "    # Create a JSON response containing predicted and measured values\n",
    "    data = {\n",
    "        \"pred_values\": predicted_values,\n",
    "        \"mes_values\": measured_values\n",
    "    }\n",
    "    return data\n"
   ]
  },
  {
   "cell_type": "code",
   "execution_count": 133,
   "metadata": {},
   "outputs": [
    {
     "name": "stderr",
     "output_type": "stream",
     "text": [
      "C:\\Users\\lukas\\AppData\\Local\\Temp\\ipykernel_16548\\2381225853.py:42: SettingWithCopyWarning: \n",
      "A value is trying to be set on a copy of a slice from a DataFrame.\n",
      "Try using .loc[row_indexer,col_indexer] = value instead\n",
      "\n",
      "See the caveats in the documentation: https://pandas.pydata.org/pandas-docs/stable/user_guide/indexing.html#returning-a-view-versus-a-copy\n",
      "  filtered_df.loc[:,'speed'] = filtered_df['speed'] / divisor\n"
     ]
    },
    {
     "data": {
      "text/plain": [
       "<matplotlib.collections.PathCollection at 0x1bf8d90f010>"
      ]
     },
     "execution_count": 133,
     "metadata": {},
     "output_type": "execute_result"
    },
    {
     "data": {
      "image/png": "[encoded data removed]",
      "text/plain": [
       "<Figure size 640x480 with 1 Axes>"
      ]
     },
     "metadata": {},
     "output_type": "display_data"
    }
   ],
   "source": [
    "Endurance = plot_rational_function_for_swimmer(df, firstname='Yang', lastname='Sun', track_length=50, technique='F')\n",
    "plt.plot(Endurance['pred_values'].keys(), Endurance['pred_values'].values(), color='blue', label='Prediction')\n",
    "plt.scatter(Endurance['mes_values'].keys(), Endurance['mes_values'].values(), color='blue', label='Measurement')\n",
    "\n",
    "\"\"\"yannick = plot_rational_function_for_swimmer(df, firstname='Yannick', lastname='Knab', track_length=50, technique='F')\n",
    "plt.plot(yannick['pred_values'].keys(), yannick['pred_values'].values(), color='green', label='Prediction')\n",
    "plt.scatter(yannick['mes_values'].keys(), yannick['mes_values'].values(), color='green', label='Measurement')\n",
    "\"\"\"\n",
    "\"\"\"kilian = plot_rational_function_for_swimmer(df, firstname='Kilian', lastname='Roppel', track_length=50, technique='F')\n",
    "plt.plot(kilian['pred_values'].keys(), kilian['pred_values'].values(), color='red', label='Prediction')\n",
    "plt.scatter(kilian['mes_values'].keys(), kilian['mes_values'].values(), color='red', label='Measurement')\n",
    "\"\"\"\n",
    "severin = plot_rational_function_for_swimmer(df, firstname='Severin', lastname='Oberli', track_length=50, technique='F')\n",
    "plt.plot(severin['pred_values'].keys(), severin['pred_values'].values(), color='orange', label='Prediction')\n",
    "plt.scatter(severin['mes_values'].keys(), severin['mes_values'].values(), color='orange', label='Measurement')\n",
    "\n",
    "xenia = plot_rational_function_for_swimmer(df, firstname='Xenia', lastname='Blumin', track_length=50, technique='F')\n",
    "plt.plot(xenia['pred_values'].keys(), xenia['pred_values'].values(), color='violet', label='Prediction')\n",
    "plt.scatter(xenia['mes_values'].keys(), xenia['mes_values'].values(), color='violet', label='Measurement')"
   ]
  }
 ],
 "metadata": {
  "kernelspec": {
   "display_name": "base",
   "language": "python",
   "name": "python3"
  },
  "language_info": {
   "codemirror_mode": {
    "name": "ipython",
    "version": 3
   },
   "file_extension": ".py",
   "mimetype": "text/x-python",
   "name": "python",
   "nbconvert_exporter": "python",
   "pygments_lexer": "ipython3",
   "version": "3.11.4"
  }
 },
 "nbformat": 4,
 "nbformat_minor": 2
}
